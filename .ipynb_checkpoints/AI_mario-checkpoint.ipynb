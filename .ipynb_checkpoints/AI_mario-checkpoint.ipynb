{
 "cells": [
  {
   "cell_type": "markdown",
   "id": "399e335e",
   "metadata": {},
   "source": [
    "# Import Requirements"
   ]
  },
  {
   "cell_type": "code",
   "execution_count": 8,
   "id": "d2f28843",
   "metadata": {},
   "outputs": [
    {
     "name": "stdout",
     "output_type": "stream",
     "text": [
      "Defaulting to user installation because normal site-packages is not writeable\n",
      "Requirement already satisfied: gym_super_mario_bros in c:\\program files\\python39\\lib\\site-packages (7.3.2)\n",
      "Requirement already satisfied: nes-py>=8.1.2 in c:\\program files\\python39\\lib\\site-packages (from gym_super_mario_bros) (8.1.8)\n",
      "Requirement already satisfied: gym>=0.17.2 in c:\\users\\kalok\\appdata\\roaming\\python\\python39\\site-packages (from nes-py>=8.1.2->gym_super_mario_bros) (0.19.0)\n",
      "Requirement already satisfied: numpy>=1.18.5 in c:\\program files\\python39\\lib\\site-packages (from nes-py>=8.1.2->gym_super_mario_bros) (1.21.4)\n",
      "Requirement already satisfied: pyglet<=1.5.11,>=1.4.0 in c:\\program files\\python39\\lib\\site-packages (from nes-py>=8.1.2->gym_super_mario_bros) (1.5.11)\n",
      "Requirement already satisfied: tqdm>=4.48.2 in c:\\program files\\python39\\lib\\site-packages (from nes-py>=8.1.2->gym_super_mario_bros) (4.62.3)\n",
      "Requirement already satisfied: cloudpickle<1.7.0,>=1.2.0 in c:\\users\\kalok\\appdata\\roaming\\python\\python39\\site-packages (from gym>=0.17.2->nes-py>=8.1.2->gym_super_mario_bros) (1.6.0)\n",
      "Requirement already satisfied: colorama in c:\\program files\\python39\\lib\\site-packages (from tqdm>=4.48.2->nes-py>=8.1.2->gym_super_mario_bros) (0.4.4)\n",
      "Defaulting to user installation because normal site-packages is not writeable\n",
      "Requirement already satisfied: nes_py in c:\\program files\\python39\\lib\\site-packages (8.1.8)\n",
      "Requirement already satisfied: gym>=0.17.2 in c:\\users\\kalok\\appdata\\roaming\\python\\python39\\site-packages (from nes_py) (0.19.0)\n",
      "Requirement already satisfied: numpy>=1.18.5 in c:\\program files\\python39\\lib\\site-packages (from nes_py) (1.21.4)\n",
      "Requirement already satisfied: pyglet<=1.5.11,>=1.4.0 in c:\\program files\\python39\\lib\\site-packages (from nes_py) (1.5.11)\n",
      "Requirement already satisfied: tqdm>=4.48.2 in c:\\program files\\python39\\lib\\site-packages (from nes_py) (4.62.3)\n",
      "Requirement already satisfied: cloudpickle<1.7.0,>=1.2.0 in c:\\users\\kalok\\appdata\\roaming\\python\\python39\\site-packages (from gym>=0.17.2->nes_py) (1.6.0)\n",
      "Requirement already satisfied: colorama in c:\\program files\\python39\\lib\\site-packages (from tqdm>=4.48.2->nes_py) (0.4.4)\n",
      "Defaulting to user installation because normal site-packages is not writeable\n",
      "Requirement already satisfied: numpy in c:\\program files\\python39\\lib\\site-packages (1.21.4)\n"
     ]
    }
   ],
   "source": [
    "!pip install gym_super_mario_bros\n",
    "!pip install nes_py\n",
    "!pip install numpy matplotlib\n",
    "!pip install stable_baselines3"
   ]
  },
  {
   "cell_type": "markdown",
   "id": "6434f73c",
   "metadata": {},
   "source": [
    "python code "
   ]
  },
  {
   "cell_type": "markdown",
   "id": "168a8485",
   "metadata": {},
   "source": [
    "## Basic Implementation"
   ]
  },
  {
   "cell_type": "code",
   "execution_count": null,
   "id": "d50c6f59",
   "metadata": {},
   "outputs": [],
   "source": [
    "import gym_super_mario_bros\n",
    "from gym_super_mario_bros.actions import SIMPLE_MOVEMENT\n",
    "from nes_py.wrappers import JoypadSpace\n",
    "import numpy as np\n",
    "import matplotlib.pyplot as plt\n",
    "# Setup game\n",
    "env = gym_super_mario_bros.make('SuperMarioBros-v0')\n",
    "env = JoypadSpace(env, SIMPLE_MOVEMENT)\n",
    "\n",
    "## try\n",
    "done = True\n",
    "for i in np.arange(0, 1000000):\n",
    "    if done:\n",
    "        env.reset()\n",
    "    state, reward, done, info = env.step(env.action_space.sample())\n",
    "    env.render()\n",
    "env.close()\n",
    "plt.show()"
   ]
  },
  {
   "cell_type": "markdown",
   "id": "f1b535ad",
   "metadata": {},
   "source": [
    "# Preprocess Environment"
   ]
  },
  {
   "cell_type": "code",
   "execution_count": 8,
   "id": "d341d677",
   "metadata": {},
   "outputs": [],
   "source": [
    "import gym_super_mario_bros\n",
    "from gym_super_mario_bros.actions import SIMPLE_MOVEMENT\n",
    "from nes_py.wrappers import JoypadSpace\n",
    "import numpy as np\n",
    "import matplotlib.pyplot as plt\n",
    "## for Gray scale => less data\n",
    "from gym.wrappers import GrayScaleObservation\n",
    "## import vectorization wrappers\n",
    "from stable_baselines3.common.vec_env import VecFrameStack, DummyVecEnv\n",
    "# Setup game\n",
    "env = gym_super_mario_bros.make('SuperMarioBros-v0')\n",
    "env = JoypadSpace(env, SIMPLE_MOVEMENT)\n",
    "env = GrayScaleObservation(env, keep_dim = True)\n",
    "\n"
   ]
  },
  {
   "cell_type": "code",
   "execution_count": 10,
   "id": "406fbb6f",
   "metadata": {},
   "outputs": [
    {
     "data": {
      "text/plain": [
       "<matplotlib.image.AxesImage at 0x1438b16ac70>"
      ]
     },
     "execution_count": 10,
     "metadata": {},
     "output_type": "execute_result"
    },
    {
     "data": {
      "image/png": "[encoded data removed]",
      "text/plain": [
       "<Figure size 432x288 with 1 Axes>"
      ]
     },
     "metadata": {
      "needs_background": "light"
     },
     "output_type": "display_data"
    }
   ],
   "source": [
    "plt.imshow(state)"
   ]
  },
  {
   "cell_type": "code",
   "execution_count": 14,
   "id": "954bc63b",
   "metadata": {},
   "outputs": [
    {
     "data": {
      "text/plain": [
       "(1, 240, 256, 192)"
      ]
     },
     "execution_count": 14,
     "metadata": {},
     "output_type": "execute_result"
    }
   ],
   "source": [
    "# Wrap the dummy environment\n",
    "env = DummyVecEnv([lambda: env])\n",
    "# Stack frames\n",
    "env = VecFrameStack(env, 4, channels_order = 'last')\n",
    "state = env.reset()\n",
    "state.shape"
   ]
  },
  {
   "cell_type": "markdown",
   "id": "db2b2339",
   "metadata": {},
   "source": [
    "# Train the RL model"
   ]
  },
  {
   "cell_type": "code",
   "execution_count": 1,
   "id": "0216d1af",
   "metadata": {},
   "outputs": [
    {
     "ename": "ModuleNotFoundError",
     "evalue": "No module named 'gym_super_mario_bros'",
     "output_type": "error",
     "traceback": [
      "\u001b[1;31m---------------------------------------------------------------------------\u001b[0m",
      "\u001b[1;31mModuleNotFoundError\u001b[0m                       Traceback (most recent call last)",
      "Input \u001b[1;32mIn [1]\u001b[0m, in \u001b[0;36m<cell line: 1>\u001b[1;34m()\u001b[0m\n\u001b[1;32m----> 1\u001b[0m \u001b[38;5;28;01mimport\u001b[39;00m \u001b[38;5;21;01mgym_super_mario_bros\u001b[39;00m\n\u001b[0;32m      2\u001b[0m \u001b[38;5;28;01mfrom\u001b[39;00m \u001b[38;5;21;01mgym_super_mario_bros\u001b[39;00m\u001b[38;5;21;01m.\u001b[39;00m\u001b[38;5;21;01mactions\u001b[39;00m \u001b[38;5;28;01mimport\u001b[39;00m SIMPLE_MOVEMENT\n\u001b[0;32m      3\u001b[0m \u001b[38;5;28;01mfrom\u001b[39;00m \u001b[38;5;21;01mnes_py\u001b[39;00m\u001b[38;5;21;01m.\u001b[39;00m\u001b[38;5;21;01mwrappers\u001b[39;00m \u001b[38;5;28;01mimport\u001b[39;00m JoypadSpace\n",
      "\u001b[1;31mModuleNotFoundError\u001b[0m: No module named 'gym_super_mario_bros'"
     ]
    }
   ],
   "source": [
    "import gym_super_mario_bros\n",
    "from gym_super_mario_bros.actions import SIMPLE_MOVEMENT\n",
    "from nes_py.wrappers import JoypadSpace\n",
    "import numpy as np\n",
    "import matplotlib.pyplot as plt\n",
    "## for Gray scale => less data\n",
    "from gym.wrappers import GrayScaleObservation\n",
    "## import vectorization wrappers\n",
    "from stable_baselines3.common.vec_env import VecFrameStack, DummyVecEnv\n",
    "# Setup game\n",
    "env = gym_super_mario_bros.make('SuperMarioBros-v0')\n",
    "env = JoypadSpace(env, SIMPLE_MOVEMENT)\n",
    "env = GrayScaleObservation(env, keep_dim = True)\n",
    "# Wrap the dummy environment\n",
    "env = DummyVecEnv([lambda: env])\n",
    "# Stack frames\n",
    "env = VecFrameStack(env, 4, channels_order = 'last')\n",
    "state = env.reset()\n",
    "#import os for file path management\n",
    "import os\n",
    "# import PPO for algos\n",
    "from stable_baselines3 import PPO\n",
    "# Import Base Callback for saving models\n",
    "from stable_baselines3.common.callbacks import BaseCallback\n",
    "\n",
    "class TrainAndLoggingCallBack(BaseCallback):\n",
    "    def __init__(self, check_freq, save_path, verbose=1):\n",
    "        super(TrainAndLoggingCallBack, self).__init__(verbose)\n",
    "        self.check_freq = check_freq\n",
    "        self.save_path = save_path\n",
    "\n",
    "    def _init_callback(self):\n",
    "        if self.save_path is not None:\n",
    "            os.makedirs(self.save_path, exist_ok = True)\n",
    "\n",
    "    def _on_step(self):\n",
    "        if self.save_path is not None:\n",
    "            model_path = os.path.join(self.save_path, \"model_{}\".format(self.n_calls))\n",
    "            self.model.save(  model_path)\n",
    "\n",
    "        return True\n",
    "    \n",
    "# set location for the dir of the models and log\n",
    "CHECKPOINT_DIR = '/train/'\n",
    "LOG_DIR = './logs/'\n",
    "\n",
    "# setup model saving callback\n",
    "callback = TrainAndLoggingCallBack(check_freq = 10000, save_path=CHECKPOINT_DIR)\n",
    "\n",
    "# tihs is the AI model started\n",
    "model = PPO('CnnPolicy', env, verbose = 1, tensorboard_log = LOG_DIR, learning_rate=0.000001, n_steps=512)\n",
    "model.learn(total_timesteps=1000000, callback=callback)\n",
    "# save model\n",
    "model.save('thisisatestmodel')\n",
    "\n"
   ]
  },
  {
   "cell_type": "markdown",
   "id": "cd43ac8a",
   "metadata": {},
   "source": [
    "# Test Model"
   ]
  },
  {
   "cell_type": "code",
   "execution_count": null,
   "id": "d0b3411c",
   "metadata": {},
   "outputs": [],
   "source": [
    "# Load model\n",
    "model = PPO.load('./train/best_model_1')\n",
    "state = env.reset()\n",
    "# Start the game \n",
    "state = env.reset()\n",
    "# Loop through the game\n",
    "while True:\n",
    "    action, _ = model.predict(state)\n",
    "    state, reward, done, info = env.step(action)\n",
    "    env.render()"
   ]
  }
 ],
 "metadata": {
  "kernelspec": {
   "display_name": "Python 3 (ipykernel)",
   "language": "python",
   "name": "python3"
  },
  "language_info": {
   "codemirror_mode": {
    "name": "ipython",
    "version": 3
   },
   "file_extension": ".py",
   "mimetype": "text/x-python",
   "name": "python",
   "nbconvert_exporter": "python",
   "pygments_lexer": "ipython3",
   "version": "3.10.4"
  }
 },
 "nbformat": 4,
 "nbformat_minor": 5
}
